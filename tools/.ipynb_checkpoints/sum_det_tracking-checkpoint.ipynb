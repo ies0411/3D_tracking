{
 "cells": [
  {
   "cell_type": "code",
   "execution_count": 1,
   "metadata": {},
   "outputs": [
    {
     "data": {
      "text/plain": [
       "True"
      ]
     },
     "execution_count": 1,
     "metadata": {},
     "output_type": "execute_result"
    }
   ],
   "source": [
    "import torch\n",
    "torch.cuda.is_available()"
   ]
  },
  {
   "cell_type": "code",
   "execution_count": 2,
   "metadata": {},
   "outputs": [
    {
     "data": {
      "text/plain": [
       "tensor([0.8709, 0.2678, 0.6816, 0.0821, 0.9434, 0.6356, 0.5345, 0.7065, 0.6223,\n",
       "        0.4284], device='cuda:0')"
      ]
     },
     "execution_count": 2,
     "metadata": {},
     "output_type": "execute_result"
    }
   ],
   "source": [
    "torch.rand(10).cuda()\n",
    "#conda install pytorch==1.10.0 torchvision==0.11.0 torchaudio==0.10.0 cudatoolkit=11.3 -c pytorch -c conda-forge\n",
    "#pip install mayavi\n",
    "#install cuda 11.3 version\n",
    "#python setup.py develop\n",
    "#conda install opencv\n",
    "#pip install spconv-cu113\n",
    "#pip install open3d filterpy\n",
    "# !pip install motmetrics\n"
   ]
  },
  {
   "cell_type": "code",
   "execution_count": null,
   "metadata": {},
   "outputs": [],
   "source": []
  },
  {
   "cell_type": "code",
   "execution_count": 3,
   "metadata": {},
   "outputs": [
    {
     "name": "stdout",
     "output_type": "stream",
     "text": [
      "Jupyter environment detected. Enabling Open3D WebVisualizer.\n",
      "[Open3D INFO] WebRTC GUI backend enabled.\n",
      "[Open3D INFO] WebRTCWindowSystem: HTTP handshake server disabled.\n"
     ]
    }
   ],
   "source": [
    "#conda install numba\n",
    "import argparse\n",
    "import glob\n",
    "from pathlib import Path\n",
    "\n",
    "try:\n",
    "    import open3d\n",
    "    from visual_utils import open3d_vis_utils as V\n",
    "    OPEN3D_FLAG = True\n",
    "except:\n",
    "    import mayavi.mlab as mlab\n",
    "    from visual_utils import visualize_utils as V\n",
    "    OPEN3D_FLAG = False\n",
    "\n",
    "import numpy as np\n",
    "import torch\n",
    "\n",
    "from pcdet.config import cfg, cfg_from_yaml_file\n",
    "from pcdet.datasets import DatasetTemplate\n",
    "from pcdet.models import build_network, load_data_to_gpu\n",
    "from pcdet.utils import common_utils\n"
   ]
  },
  {
   "cell_type": "code",
   "execution_count": 4,
   "metadata": {},
   "outputs": [],
   "source": [
    "\n",
    "\n",
    "class DemoDataset(DatasetTemplate):\n",
    "    def __init__(self, dataset_cfg, class_names, training=True, root_path=None, logger=None, ext='.bin'):\n",
    "        \"\"\"\n",
    "        Args:\n",
    "            root_path:\n",
    "            dataset_cfg:\n",
    "            class_names:\n",
    "            training:\n",
    "            logger:\n",
    "        \"\"\"\n",
    "        super().__init__(\n",
    "            dataset_cfg=dataset_cfg, class_names=class_names, training=training, root_path=root_path, logger=logger\n",
    "        )\n",
    "        self.root_path = root_path\n",
    "        self.ext = ext\n",
    "        data_file_list = glob.glob(str(root_path / f'*{self.ext}')) if self.root_path.is_dir() else [self.root_path]\n",
    "\n",
    "        data_file_list.sort()\n",
    "        self.sample_file_list = data_file_list\n",
    "\n",
    "    def __len__(self):\n",
    "        return len(self.sample_file_list)\n",
    "\n",
    "    def __getitem__(self, index):\n",
    "        if self.ext == '.bin':\n",
    "            points = np.fromfile(self.sample_file_list[index], dtype=np.float32).reshape(-1, 4)\n",
    "        elif self.ext == '.npy':\n",
    "            points = np.load(self.sample_file_list[index])\n",
    "        else:\n",
    "            raise NotImplementedError\n",
    "\n",
    "        input_dict = {\n",
    "            'points': points,\n",
    "            'frame_id': index,\n",
    "        }\n",
    "\n",
    "        data_dict = self.prepare_data(data_dict=input_dict)\n",
    "        return data_dict\n"
   ]
  },
  {
   "cell_type": "code",
   "execution_count": 5,
   "metadata": {},
   "outputs": [],
   "source": [
    "def parse_config():\n",
    "    parser = argparse.ArgumentParser(description='arg parser')\n",
    "    parser.add_argument('--cfg_file', type=str, default='cfgs/kitti_models/pv_rcnn.yaml',\n",
    "                        help='specify the config for demo')\n",
    "    parser.add_argument('--data_path', type=str, default='demo_data',\n",
    "                        help='specify the point cloud data file or directory')\n",
    "    parser.add_argument('--ckpt', default = \"checkpoints/pv_rcnn_8369.pth\",type=str,  help='specify the pretrained model')\n",
    "    parser.add_argument('--ext', type=str, default='.bin', help='specify the extension of your point cloud data file')\n",
    "\n",
    "    args = parser.parse_args(args=[])\n",
    "\n",
    "    cfg_from_yaml_file(args.cfg_file, cfg)\n",
    "\n",
    "    return args, cfg\n"
   ]
  },
  {
   "cell_type": "code",
   "execution_count": 6,
   "metadata": {},
   "outputs": [
    {
     "name": "stderr",
     "output_type": "stream",
     "text": [
      "2023-02-09 20:26:14,339   INFO  -----------------Quick Demo of OpenPCDet-------------------------\n"
     ]
    }
   ],
   "source": [
    "args, cfg = parse_config()\n",
    "logger = common_utils.create_logger()\n",
    "logger.info('-----------------Quick Demo of OpenPCDet-------------------------')"
   ]
  },
  {
   "cell_type": "code",
   "execution_count": 7,
   "metadata": {},
   "outputs": [],
   "source": [
    "demo_dataset = DemoDataset(\n",
    "    dataset_cfg=cfg.DATA_CONFIG, class_names=cfg.CLASS_NAMES, training=False,\n",
    "    root_path=Path(args.data_path), ext=args.ext, logger=logger\n",
    ")\n",
    "# logger.info(f'Total number of samples: \\t{len(demo_dataset)}')\n"
   ]
  },
  {
   "cell_type": "code",
   "execution_count": 8,
   "metadata": {},
   "outputs": [],
   "source": [
    "#only car \n",
    "def apply_thres(pred_dicts,thres=0.5):\n",
    "    detected_bbox_list = []\n",
    "    label_list =[]\n",
    "    ref_scores_list = []\n",
    "    for idx,bbox in enumerate(pred_dicts[0]['pred_boxes']):\n",
    "        if thres > pred_dicts[0]['pred_scores'][idx] or pred_dicts[0]['pred_labels'][idx] != 1:\n",
    "            continue\n",
    "        detected_bbox_list.append(bbox.tolist())\n",
    "        ref_scores_list.append(pred_dicts[0]['pred_scores'][idx])\n",
    "        label_list.append(pred_dicts[0]['pred_labels'][idx])\n",
    "    return detected_bbox_list,ref_scores_list,label_list\n",
    "# print(detected_bbox)"
   ]
  },
  {
   "cell_type": "code",
   "execution_count": 9,
   "metadata": {},
   "outputs": [
    {
     "name": "stderr",
     "output_type": "stream",
     "text": [
      "/home/server-003/anaconda3/envs/pcdet/lib/python3.8/site-packages/torch/functional.py:445: UserWarning: torch.meshgrid: in an upcoming release, it will be required to pass the indexing argument. (Triggered internally at  /opt/conda/conda-bld/pytorch_1634272068694/work/aten/src/ATen/native/TensorShape.cpp:2157.)\n",
      "  return _VF.meshgrid(tensors, **kwargs)  # type: ignore[attr-defined]\n",
      "2023-02-09 20:26:21,014   INFO  ==> Loading parameters from checkpoint checkpoints/pv_rcnn_8369.pth to CPU\n",
      "2023-02-09 20:26:21,046   INFO  ==> Done (loaded 367/367)\n"
     ]
    }
   ],
   "source": [
    "#TODO : use mayavi\n",
    "model = build_network(model_cfg=cfg.MODEL, num_class=len(cfg.CLASS_NAMES), dataset=demo_dataset)\n",
    "model.load_params_from_file(filename=args.ckpt, logger=logger, to_cpu=True)\n",
    "model.cuda()\n",
    "model.eval()\n",
    "pred_det_list=[]\n",
    "points_list=[]\n",
    "ref_scores_list=[]\n",
    "ref_label_list = []\n",
    "\n",
    "with torch.no_grad():\n",
    "    for idx, data_dict in enumerate(demo_dataset):\n",
    "        data_dict = demo_dataset.collate_batch([data_dict])\n",
    "        load_data_to_gpu(data_dict)\n",
    "        points_list.append(data_dict['points'][:, 1:])\n",
    "        pred_dicts, _ = model.forward(data_dict)\n",
    "        filtered_det,score,label = apply_thres(pred_dicts)\n",
    "        pred_det_list.append(filtered_det)\n",
    "        ref_scores_list.append(score)\n",
    "        ref_label_list.append(label)\n"
   ]
  },
  {
   "cell_type": "code",
   "execution_count": 10,
   "metadata": {},
   "outputs": [],
   "source": [
    "def translate_boxes_to_open3d_instance(gt_boxes):\n",
    "    \"\"\"\n",
    "             4-------- 6\n",
    "           /|         /|\n",
    "          5 -------- 3 .\n",
    "          | |        | |\n",
    "          . 7 -------- 1\n",
    "          |/         |/\n",
    "          2 -------- 0\n",
    "    \"\"\"\n",
    "    center = gt_boxes[0:3]\n",
    "    lwh = gt_boxes[3:6]\n",
    "    axis_angles = np.array([0, 0, gt_boxes[6] + 1e-10])\n",
    "    rot = open3d.geometry.get_rotation_matrix_from_axis_angle(axis_angles)\n",
    "    box3d = open3d.geometry.OrientedBoundingBox(center, rot, lwh)\n",
    "\n",
    "    line_set = open3d.geometry.LineSet.create_from_oriented_bounding_box(box3d)\n",
    "\n",
    "    # import ipdb; ipdb.set_trace(context=20)\n",
    "    lines = np.asarray(line_set.lines)\n",
    "    lines = np.concatenate([lines, np.array([[1, 4], [7, 6]])], axis=0)\n",
    "\n",
    "    line_set.lines = open3d.utility.Vector2iVector(lines)\n",
    "\n",
    "    return line_set, box3d"
   ]
  },
  {
   "cell_type": "code",
   "execution_count": 11,
   "metadata": {},
   "outputs": [
    {
     "data": {
      "text/plain": [
       "'\\n    7 -------- 4\\n   /|         /|\\n  6 -------- 5 .\\n  | |        | |\\n  . 3 -------- 0\\n  |/         |/\\n  2 -------- 1\\nArgs:\\n    boxes3d:  (N, 7) [x, y, z, dx, dy, dz, heading], (x, y, z) is the box center\\n\\nReturns:\\n'"
      ]
     },
     "execution_count": 11,
     "metadata": {},
     "output_type": "execute_result"
    }
   ],
   "source": [
    "# [[h,w,l,x,y,z,theta],...]\n",
    "#  bbox.h, bbox.w, bbox.l, bbox.x, bbox.y, bbox.z, bbox.ry = data[:7]\n",
    "\"\"\"\n",
    "    7 -------- 4\n",
    "   /|         /|\n",
    "  6 -------- 5 .\n",
    "  | |        | |\n",
    "  . 3 -------- 0\n",
    "  |/         |/\n",
    "  2 -------- 1\n",
    "Args:\n",
    "    boxes3d:  (N, 7) [x, y, z, dx, dy, dz, heading], (x, y, z) is the box center\n",
    "\n",
    "Returns:\n",
    "\"\"\""
   ]
  },
  {
   "cell_type": "code",
   "execution_count": 12,
   "metadata": {},
   "outputs": [],
   "source": [
    "import os, numpy as np, time, sys, argparse\n",
    "from tracking_modules.utils import Config, get_subfolder_seq, createFolder\n",
    "from tracking_modules.io import (\n",
    "    load_detection,\n",
    "    get_saving_dir,\n",
    "    get_frame_det,\n",
    "    save_results,\n",
    "    save_affinity,\n",
    ")\n",
    "from tracking_modules.model import AB3DMOT\n"
   ]
  },
  {
   "cell_type": "code",
   "execution_count": 13,
   "metadata": {},
   "outputs": [],
   "source": [
    "config_path = \"./tracking_modules/configs/config.yml\"\n",
    "cfg = Config(config_path)"
   ]
  },
  {
   "cell_type": "code",
   "execution_count": 14,
   "metadata": {},
   "outputs": [],
   "source": [
    "import numpy as np\n",
    "import open3d as o3d\n",
    "def text_3d(text, pos, direction=None, degree=0.0,density=5, font=\"/usr/share/fonts/truetype/dejavu/DejaVuSans-BoldOblique.ttf\", font_size=210):\n",
    "    \"\"\"\n",
    "    Generate a 3D text point cloud used for visualization.\n",
    "    :param text: content of the text\n",
    "    :param pos: 3D xyz position of the text upper left corner\n",
    "    :param direction: 3D normalized direction of where the text faces\n",
    "    :param degree: in plane rotation of text\n",
    "    :param font: Name of the font - change it according to your system\n",
    "    :param font_size: size of the font\n",
    "    :return: o3d.geoemtry.PointCloud object\n",
    "    \"\"\"\n",
    "    if direction is None:\n",
    "        direction = (0, 0., 1.)\n",
    "\n",
    "    from PIL import Image, ImageFont, ImageDraw\n",
    "    from pyquaternion import Quaternion\n",
    "#     font_obj = ImageFont.load_default()\n",
    "    font_obj = ImageFont.truetype(font, font_size*density)\n",
    "\n",
    "    font_dim = font_obj.getsize(text)\n",
    "\n",
    "    img = Image.new('RGB', font_dim, color=(255, 255, 255))\n",
    "    draw = ImageDraw.Draw(img)\n",
    "    draw.text((0, 0), text, font=font_obj, fill=(0, 0, 0))\n",
    "    img = np.asarray(img)\n",
    "    img_mask = img[:, :, 0] < 128\n",
    "    indices = np.indices([*img.shape[0:2], 1])[:, img_mask, 0].reshape(3, -1).T\n",
    "\n",
    "    pcd = o3d.geometry.PointCloud()\n",
    "    pcd.colors = o3d.utility.Vector3dVector(img[img_mask, :].astype(float)+100 )\n",
    "#     / 255.0\n",
    "    pcd.points = o3d.utility.Vector3dVector(indices / 1000 /density)\n",
    "\n",
    "    raxis = np.cross([0.0, 0.0, 1.0], direction)\n",
    "    if np.linalg.norm(raxis) < 1e-6:\n",
    "        raxis = (0.0, 0.0, 1.0)\n",
    "    trans = (Quaternion(axis=raxis, radians=np.arccos(direction[2])) *\n",
    "             Quaternion(axis=direction, degrees=degree)).transformation_matrix\n",
    "    trans[0:3, 3] = np.asarray(pos)\n",
    "    pcd.transform(trans)\n",
    "    return pcd\n",
    "# text_3d(\"test\",[0,0,0])"
   ]
  },
  {
   "cell_type": "code",
   "execution_count": 15,
   "metadata": {},
   "outputs": [],
   "source": [
    "gt_path = \"/home/server-003/workspace/dataset/kitti_tracking/data_tracking_label_2/training/label_02/0000.txt\"\n",
    "gt_id_list=[]\n",
    "gt_bbox_list=[]\n",
    "#TODO : cam_to_lidar plane, class \n",
    "# gt_frame_list=[]\n",
    "with open(gt_path, \"r\") as f:\n",
    "    file = f.readlines()\n",
    "#     print(file)\n",
    "    frame_idx =-1\n",
    "    gt_id=[]\n",
    "    gt_bbox=[]\n",
    "    for line in file:\n",
    "        gt_info = line.split()\n",
    "        if frame_idx == gt_info:\n",
    "            gt_id.append(gt_info[1])\n",
    "        else:\n",
    "            gt_id.clear()\n",
    "            gt_bbox.clear()\n",
    "            if gt_info[1] != -1:\n",
    "                gt_id.append(gt_info[1])\n",
    "                gt_bbox = gt_info[10:17]\n",
    "            frame_idx+=1\n",
    "#                 gt_bbox.append(gt_info[10])\n",
    "#                 gt_bbox.append(gt_info[11])\n",
    "#                 gt_bbox.append(gt_info[12])\n",
    "                \n",
    "                \n",
    "            \n"
   ]
  },
  {
   "cell_type": "code",
   "execution_count": 16,
   "metadata": {},
   "outputs": [],
   "source": [
    "def tracking_vis(idx,result,gt=None): \n",
    "    vis = open3d.visualization.Visualizer()\n",
    "    vis.create_window()\n",
    "    vis.get_render_option().point_size = 1.0\n",
    "    vis.get_render_option().background_color = np.zeros(3)\n",
    "    axis_pcd = open3d.geometry.TriangleMesh.create_coordinate_frame(size=1.0, origin=[0, 0, 0])\n",
    "    vis.add_geometry(axis_pcd)\n",
    "    pts = open3d.geometry.PointCloud()\n",
    "    points =points_list[idx][:,:3].cpu().numpy()\n",
    "    pts.points = open3d.utility.Vector3dVector(points)\n",
    "    pts.colors = open3d.utility.Vector3dVector(np.ones((points.shape[0], 3)))\n",
    "    vis.add_geometry(pts)\n",
    "    for i in range(result.shape[0]):\n",
    "        vis_result =[]\n",
    "        vis_result[0:3] = result[i,3:6]\n",
    "        vis_result[3:6] = result[i,0:3]\n",
    "        vis_result.append(result[i,6])\n",
    "        \n",
    "        line_set, box3d = translate_boxes_to_open3d_instance(vis_result)\n",
    "        line_set.paint_uniform_color((1,1,0))\n",
    "        id_str = str(int(result[i,7]))\n",
    "#         print(id_str)\n",
    "#         print(id_str)\n",
    "#         print(vis_result[0:3])\n",
    "        text_pose=[]\n",
    "        text_pose=vis_result[0:3]\n",
    "        text_pose[2]+=0.7\n",
    "        text = text_3d(id_str,pos=text_pose[0:3])\n",
    "    \n",
    "        vis.add_geometry(text)\n",
    "        vis.add_geometry(line_set)\n",
    "        \n",
    "#         o3d.visualization.draw_geometries([pcd, chessboard_coord])\n",
    "\n",
    "            # if score is not None:\n",
    "#     corners = box3d.get_box_points()\n",
    "#     vis.add_3d_label(corners[5], '%.2f' % 0.1)\n",
    "    \n",
    "    vis.run()\n",
    "    vis.destroy_window()"
   ]
  },
  {
   "cell_type": "code",
   "execution_count": 17,
   "metadata": {},
   "outputs": [],
   "source": [
    "ID_start = 1\n",
    "total_time = 0.0\n",
    "tracker = AB3DMOT(cfg, \"Car\", ID_init=ID_start)"
   ]
  },
  {
   "cell_type": "code",
   "execution_count": 18,
   "metadata": {
    "scrolled": true
   },
   "outputs": [
    {
     "name": "stderr",
     "output_type": "stream",
     "text": [
      "/home/server-003/workspace/OpenPCDet/tools/tracking_modules/kitti_oxts.py:15: NumbaWarning: \n",
      "Compilation is falling back to object mode WITH looplifting enabled because Function roty failed at nopython mode lowering due to: \n",
      "  @jit\n",
      "/home/server-003/anaconda3/envs/pcdet/lib/python3.8/site-packages/numba-0.56.4-py3.8-linux-x86_64.egg/numba/core/object_mode_passes.py:151: NumbaWarning: Function \"roty\" was compiled in object mode without forceobj=True.\n",
      "\n",
      "File \"tracking_modules/kitti_oxts.py\", line 16:\n",
      "@jit\n",
      "def roty(t):\n",
      "^\n",
      "\n",
      "  warnings.warn(errors.NumbaWarning(warn_msg,\n",
      "/home/server-003/anaconda3/envs/pcdet/lib/python3.8/site-packages/numba-0.56.4-py3.8-linux-x86_64.egg/numba/core/object_mode_passes.py:161: NumbaDeprecationWarning: \n",
      "Fall-back from the nopython compilation path to the object mode compilation path has been detected, this is deprecated behaviour.\n",
      "\n",
      "For more information visit https://numba.readthedocs.io/en/stable/reference/deprecation.html#deprecation-of-object-mode-fall-back-behaviour-when-using-jit\n",
      "\n",
      "File \"tracking_modules/kitti_oxts.py\", line 16:\n",
      "@jit\n",
      "def roty(t):\n",
      "^\n",
      "\n",
      "  warnings.warn(errors.NumbaDeprecationWarning(msg,\n"
     ]
    }
   ],
   "source": [
    "results_list=[]\n",
    "for idx,pred_det in enumerate(pred_det_list):\n",
    "    since = time.time()\n",
    "    results, affi = tracker.track(pred_det)\n",
    "#     print(results)\n",
    "    total_time += time.time() - since\n",
    "    results = np.squeeze(results)\n",
    "    results_list.append(results)\n",
    "    \n",
    "#     tracking_vis(idx,results)\n",
    "#     if idx==1:\n",
    "#         break\n",
    "# h,w,l,x,y,z,theta, ID, other info, confidence\n",
    "\n"
   ]
  },
  {
   "cell_type": "code",
   "execution_count": 19,
   "metadata": {},
   "outputs": [
    {
     "data": {
      "text/plain": [
       "[array([[ 4.123,  1.697,  1.514, 20.304,  9.95 , -0.96 ,  4.467, 15.   ],\n",
       "        [ 3.803,  1.605,  1.527, 53.409, -2.259, -0.406,  6.113, 14.   ],\n",
       "        [ 3.527,  1.64 ,  1.596, -0.06 ,  4.429, -0.906,  1.185, 13.   ],\n",
       "        [ 3.567,  1.681,  1.477, 38.604,  3.822, -0.603,  1.478, 12.   ],\n",
       "        [ 3.826,  1.555,  1.41 , 33.39 ,  5.171, -0.593,  7.063, 11.   ],\n",
       "        [ 3.795,  1.587,  1.491, 19.913,  4.281, -0.758,  2.457, 10.   ],\n",
       "        [ 3.743,  1.579,  1.506, 42.486, -2.504, -0.538,  3.164,  9.   ],\n",
       "        [ 4.237,  1.707,  1.908, 36.992, -2.658, -0.287,  6.26 ,  8.   ],\n",
       "        [ 3.804,  1.54 ,  1.431, 12.147, 17.687, -1.03 ,  4.738,  7.   ],\n",
       "        [ 3.963,  1.593,  1.514,  4.565,  4.268, -0.952,  6.82 ,  6.   ],\n",
       "        [ 4.664,  1.609,  1.49 , 10.791, 11.279, -1.132,  3.134,  5.   ],\n",
       "        [ 3.582,  1.587,  1.503, 26.46 , -2.64 , -0.715,  6.26 ,  4.   ],\n",
       "        [ 3.978,  1.637,  1.61 , 21.648, -2.642, -0.687,  6.285,  3.   ],\n",
       "        [ 4.287,  1.607,  1.529, 15.601, -2.427, -0.716,  6.314,  2.   ],\n",
       "        [ 3.513,  1.579,  1.564, 10.003, -2.56 , -0.779,  6.292,  1.   ]]),\n",
       " array([[ 4.025,  1.625,  1.475, 14.538, 29.326, -1.193,  1.524, 16.   ],\n",
       "        [ 4.123,  1.697,  1.514, 20.304,  9.95 , -0.96 , -1.816, 15.   ],\n",
       "        [ 3.803,  1.605,  1.527, 53.409, -2.259, -0.406, -0.17 , 14.   ],\n",
       "        [ 3.527,  1.64 ,  1.596, -0.06 ,  4.429, -0.906,  1.185, 13.   ],\n",
       "        [ 3.822,  1.618,  1.478, 37.889,  4.081, -0.652,  1.52 , 12.   ],\n",
       "        [ 3.879,  1.658,  1.475, 32.767,  5.099, -0.66 ,  0.743, 11.   ],\n",
       "        [ 4.074,  1.618,  1.527, 18.935,  4.496, -0.767,  2.43 , 10.   ],\n",
       "        [ 3.743,  1.579,  1.506, 42.486, -2.504, -0.538, -3.119,  9.   ],\n",
       "        [ 4.421,  1.744,  1.854, 36.296, -2.649, -0.436, -0.022,  8.   ],\n",
       "        [ 3.8  ,  1.596,  1.403, 11.4  , 17.634, -1.059, -1.56 ,  7.   ],\n",
       "        [ 4.118,  1.606,  1.536,  3.862,  4.353, -0.968,  0.598,  6.   ],\n",
       "        [ 4.543,  1.639,  1.448, 10.072, 11.307, -1.178,  3.129,  5.   ],\n",
       "        [ 3.59 ,  1.605,  1.541, 25.669, -2.619, -0.725, -0.01 ,  4.   ],\n",
       "        [ 3.805,  1.594,  1.609, 20.831, -2.64 , -0.737, -0.016,  3.   ],\n",
       "        [ 4.371,  1.645,  1.562, 14.867, -2.45 , -0.735,  0.022,  2.   ],\n",
       "        [ 3.449,  1.59 ,  1.587,  9.281, -2.559, -0.795,  0.01 ,  1.   ]]),\n",
       " array([[ 3.72 ,  1.597,  1.405, 11.91 , 29.051, -1.312,  1.043, 19.   ],\n",
       "        [ 4.176,  1.623,  1.481,  0.745, -1.018, -0.983,  4.225, 18.   ],\n",
       "        [ 4.449,  1.682,  2.071,  8.514,  4.254, -0.649,  7.03 , 17.   ],\n",
       "        [ 3.796,  1.673,  1.5  , 13.886, 29.141, -1.243,  1.586, 16.   ],\n",
       "        [ 3.909,  1.698,  1.492, 37.136,  4.103, -0.706,  1.548, 12.   ],\n",
       "        [ 3.772,  1.595,  1.458, 31.932,  5.137, -0.743,  0.734, 11.   ],\n",
       "        [ 4.141,  1.615,  1.511, 18.212,  4.479, -0.809,  2.45 , 10.   ],\n",
       "        [ 4.34 ,  1.743,  1.752, 35.467, -2.707, -0.534, -0.015,  8.   ],\n",
       "        [ 3.863,  1.619,  1.419, 10.734, 17.497, -1.19 , -1.573,  7.   ],\n",
       "        [ 4.065,  1.575,  1.501,  3.123,  4.378, -0.992,  0.625,  6.   ],\n",
       "        [ 4.475,  1.628,  1.472,  9.331, 11.276, -1.243, -3.139,  5.   ],\n",
       "        [ 3.72 ,  1.604,  1.516, 24.953, -2.658, -0.786, -0.016,  4.   ],\n",
       "        [ 4.   ,  1.623,  1.598, 20.243, -2.652, -0.766, -0.002,  3.   ],\n",
       "        [ 4.327,  1.61 ,  1.557, 14.119, -2.459, -0.753,  0.023,  2.   ],\n",
       "        [ 3.468,  1.604,  1.58 ,  8.53 , -2.557, -0.796, -0.003,  1.   ]]),\n",
       " array([[ 3.708,  1.627,  1.491, 13.124, 29.157, -1.363,  1.564, 16.   ],\n",
       "        [ 3.81 ,  1.672,  1.501, 36.407,  3.987, -0.712,  1.539, 12.   ],\n",
       "        [ 3.824,  1.6  ,  1.44 , 31.203,  5.162, -0.78 ,  0.733, 11.   ],\n",
       "        [ 4.054,  1.6  ,  1.499, 17.503,  4.426, -0.839,  2.457, 10.   ],\n",
       "        [ 4.294,  1.759,  1.776, 34.72 , -2.656, -0.51 , -0.005,  8.   ],\n",
       "        [ 3.842,  1.619,  1.439, 10.015, 17.541, -1.206, -1.551,  7.   ],\n",
       "        [ 4.014,  1.58 ,  1.499,  2.355,  4.363, -1.02 ,  0.635,  6.   ],\n",
       "        [ 4.397,  1.627,  1.455,  8.561, 11.259, -1.273, -3.133,  5.   ],\n",
       "        [ 3.612,  1.597,  1.511, 24.171, -2.641, -0.785, -0.023,  4.   ],\n",
       "        [ 4.087,  1.645,  1.596, 19.536, -2.652, -0.759, -0.003,  3.   ],\n",
       "        [ 4.375,  1.616,  1.554, 13.38 , -2.452, -0.768,  0.021,  2.   ],\n",
       "        [ 3.488,  1.601,  1.58 ,  7.831, -2.563, -0.811, -0.007,  1.   ]]),\n",
       " array([[ 3.317,  1.561,  1.474,  9.622, 29.107, -1.396,  1.601, 19.   ],\n",
       "        [ 3.418,  1.557,  1.482, 12.271, 28.936, -1.358,  1.584, 16.   ],\n",
       "        [ 3.871,  1.668,  1.503, 35.673,  4.043, -0.699,  1.505, 12.   ],\n",
       "        [ 3.824,  1.589,  1.43 , 30.462,  5.118, -0.772,  0.711, 11.   ],\n",
       "        [ 4.059,  1.609,  1.517, 16.621,  4.593, -0.852,  2.444, 10.   ],\n",
       "        [ 4.351,  1.755,  1.861, 34.056, -2.633, -0.44 ,  0.017,  8.   ],\n",
       "        [ 3.757,  1.629,  1.438,  9.302, 17.742, -1.216, -1.562,  7.   ],\n",
       "        [ 4.049,  1.561,  1.473,  1.707,  4.365, -1.003,  0.652,  6.   ],\n",
       "        [ 4.129,  1.602,  1.44 ,  7.698, 11.248, -1.263, -3.129,  5.   ],\n",
       "        [ 3.611,  1.604,  1.499, 23.399, -2.633, -0.758, -0.006,  4.   ],\n",
       "        [ 3.991,  1.642,  1.581, 18.723, -2.654, -0.743, -0.005,  3.   ],\n",
       "        [ 4.362,  1.625,  1.559, 12.612, -2.481, -0.758,  0.014,  2.   ],\n",
       "        [ 3.556,  1.621,  1.602,  7.076, -2.562, -0.82 , -0.005,  1.   ]]),\n",
       " array([[ 3.486,  1.521,  1.454, 49.534, -2.394, -0.488, -0.152, 21.   ],\n",
       "        [ 3.432,  1.548,  1.425,  8.849, 29.182, -1.419,  1.625, 19.   ],\n",
       "        [ 3.383,  1.546,  1.478, 11.528, 28.996, -1.382,  1.586, 16.   ],\n",
       "        [ 3.985,  1.642,  1.508, 34.872,  4.118, -0.677,  1.542, 12.   ],\n",
       "        [ 3.705,  1.601,  1.455, 29.71 ,  5.056, -0.743,  0.693, 11.   ],\n",
       "        [ 4.126,  1.621,  1.522, 15.904,  4.529, -0.861,  2.433, 10.   ],\n",
       "        [ 4.332,  1.763,  1.891, 33.288, -2.588, -0.376,  0.017,  8.   ],\n",
       "        [ 3.629,  1.59 ,  1.451,  8.526, 17.805, -1.23 ,  1.585,  7.   ],\n",
       "        [ 4.093,  1.617,  1.489,  1.083,  4.432, -1.021,  0.644,  6.   ],\n",
       "        [ 3.955,  1.584,  1.449,  6.874, 11.273, -1.269, -3.11 ,  5.   ],\n",
       "        [ 3.575,  1.584,  1.493, 22.686, -2.632, -0.723, -0.014,  4.   ],\n",
       "        [ 4.049,  1.627,  1.579, 18.025, -2.616, -0.732, -0.005,  3.   ],\n",
       "        [ 4.356,  1.637,  1.552, 11.865, -2.487, -0.749,  0.016,  2.   ],\n",
       "        [ 3.536,  1.605,  1.593,  6.329, -2.547, -0.824, -0.011,  1.   ]]),\n",
       " array([[ 3.506,  1.562,  1.457, 48.815, -2.425, -0.474, -0.154, 21.   ],\n",
       "        [ 3.56 ,  1.6  ,  1.424,  8.188, 29.244, -1.444,  1.601, 19.   ],\n",
       "        [ 3.284,  1.553,  1.436, 10.811, 28.939, -1.427,  1.594, 16.   ],\n",
       "        [ 3.962,  1.674,  1.499, 34.172,  4.074, -0.693,  1.537, 12.   ],\n",
       "        [ 3.758,  1.631,  1.48 , 29.006,  5.102, -0.758,  0.696, 11.   ],\n",
       "        [ 4.106,  1.617,  1.516, 15.129,  4.57 , -0.864,  2.427, 10.   ],\n",
       "        [ 4.373,  1.684,  1.63 , 32.657, -2.647, -0.558, -3.078,  8.   ],\n",
       "        [ 3.462,  1.573,  1.422,  7.764, 18.272, -1.336,  1.544,  7.   ],\n",
       "        [ 3.999,  1.629,  1.493,  0.17 ,  4.256, -1.074, -2.485,  6.   ],\n",
       "        [ 4.125,  1.642,  1.448,  6.325, 11.233, -1.288, -3.104,  5.   ],\n",
       "        [ 3.592,  1.583,  1.509, 21.972, -2.635, -0.721, -0.015,  4.   ],\n",
       "        [ 4.08 ,  1.615,  1.59 , 17.259, -2.611, -0.726, -0.014,  3.   ],\n",
       "        [ 4.281,  1.653,  1.554, 11.121, -2.476, -0.752,  0.012,  2.   ],\n",
       "        [ 3.533,  1.613,  1.588,  5.571, -2.537, -0.841, -0.012,  1.   ]]),\n",
       " array([[ 3.62 ,  1.559,  1.55 , 37.2  , -2.481, -0.565, -3.102, 22.   ],\n",
       "        [ 3.787,  1.609,  1.54 , 48.293, -2.29 , -0.524, -0.121, 21.   ],\n",
       "        [ 3.56 ,  1.6  ,  1.424,  7.42 , 29.266, -1.474,  1.601, 19.   ],\n",
       "        [ 3.284,  1.553,  1.436, 10.049, 28.882, -1.468,  1.594, 16.   ],\n",
       "        [ 3.813,  1.688,  1.506, 33.426,  4.025, -0.726,  1.545, 12.   ],\n",
       "        [ 3.674,  1.604,  1.462, 28.159,  5.127, -0.787,  0.758, 11.   ],\n",
       "        [ 4.019,  1.592,  1.545, 14.502,  4.485, -0.882,  2.436, 10.   ],\n",
       "        [ 4.394,  1.716,  1.717, 31.863, -2.602, -0.513,  0.029,  8.   ],\n",
       "        [ 3.462,  1.573,  1.422,  7.031, 18.417, -1.387,  1.544,  7.   ],\n",
       "        [ 3.999,  1.629,  1.493, -0.568,  4.235, -1.095, -2.485,  6.   ],\n",
       "        [ 4.241,  1.631,  1.436,  5.665, 11.236, -1.314, -3.114,  5.   ],\n",
       "        [ 3.646,  1.598,  1.507, 21.308, -2.62 , -0.744, -0.024,  4.   ],\n",
       "        [ 3.997,  1.601,  1.589, 16.52 , -2.605, -0.715, -0.016,  3.   ],\n",
       "        [ 4.275,  1.637,  1.573, 10.364, -2.472, -0.757,  0.013,  2.   ],\n",
       "        [ 3.527,  1.609,  1.579,  4.85 , -2.541, -0.843, -0.021,  1.   ]]),\n",
       " array([[ 3.59 ,  1.555,  1.487, 36.608, -2.509, -0.671,  0.015, 22.   ],\n",
       "        [ 3.769,  1.609,  1.541, 47.567, -2.294, -0.596, -0.111, 21.   ],\n",
       "        [ 3.408,  1.559,  1.439,  6.779, 29.168, -1.526,  1.577, 19.   ],\n",
       "        [ 3.59 ,  1.673,  1.511, 32.719,  3.889, -0.766,  1.48 , 12.   ],\n",
       "        [ 3.65 ,  1.608,  1.464, 27.408,  5.131, -0.814,  0.733, 11.   ],\n",
       "        [ 4.046,  1.601,  1.545, 13.792,  4.482, -0.9  ,  2.427, 10.   ],\n",
       "        [ 4.457,  1.746,  1.758, 31.149, -2.556, -0.493,  0.023,  8.   ],\n",
       "        [ 4.233,  1.607,  1.465,  4.788, 11.245, -1.334, -3.118,  5.   ],\n",
       "        [ 3.688,  1.599,  1.533, 20.6  , -2.612, -0.748, -0.004,  4.   ],\n",
       "        [ 3.94 ,  1.62 ,  1.585, 15.7  , -2.597, -0.743, -0.007,  3.   ],\n",
       "        [ 4.272,  1.638,  1.57 ,  9.632, -2.468, -0.773,  0.014,  2.   ],\n",
       "        [ 3.649,  1.614,  1.586,  4.133, -2.526, -0.84 , -0.02 ,  1.   ]]),\n",
       " array([[ 3.891,  1.633,  1.421,  3.483, 28.282, -1.572,  1.734, 23.   ],\n",
       "        [ 3.615,  1.565,  1.488, 35.874, -2.454, -0.613,  0.027, 22.   ],\n",
       "        [ 3.917,  1.626,  1.507, 46.799, -2.468, -0.587, -0.245, 21.   ],\n",
       "        [ 3.383,  1.547,  1.445,  5.901, 29.152, -1.534,  1.636, 19.   ],\n",
       "        [ 3.585,  1.663,  1.489, 31.986,  3.949, -0.766,  1.463, 12.   ],\n",
       "        [ 3.61 ,  1.593,  1.453, 26.618,  5.147, -0.806,  0.745, 11.   ],\n",
       "        [ 4.066,  1.601,  1.559, 12.991,  4.524, -0.899,  2.427, 10.   ],\n",
       "        [ 4.394,  1.722,  1.86 , 30.325, -2.547, -0.438,  0.032,  8.   ],\n",
       "        [ 3.937,  1.563,  1.427,  3.89 , 11.255, -1.354, -3.1  ,  5.   ],\n",
       "        [ 3.841,  1.618,  1.547, 19.878, -2.609, -0.753, -0.014,  4.   ],\n",
       "        [ 4.017,  1.61 ,  1.578, 14.987, -2.59 , -0.738, -0.008,  3.   ],\n",
       "        [ 4.264,  1.64 ,  1.576,  8.908, -2.461, -0.777,  0.016,  2.   ],\n",
       "        [ 3.646,  1.577,  1.579,  3.368, -2.491, -0.826, -0.025,  1.   ]]),\n",
       " array([[ 3.816,  1.533,  1.398, 14.341, 11.292, -1.259,  3.138, 25.   ],\n",
       "        [ 3.826,  1.63 ,  1.439,  2.839, 28.28 , -1.582,  1.692, 23.   ],\n",
       "        [ 3.547,  1.561,  1.467, 35.125, -2.391, -0.644,  0.036, 22.   ],\n",
       "        [ 3.788,  1.585,  1.482, 46.029, -2.337, -0.604, -0.212, 21.   ],\n",
       "        [ 3.423,  1.557,  1.435,  5.105, 29.13 , -1.519,  1.65 , 19.   ],\n",
       "        [ 4.001,  1.696,  1.457, 31.239,  4.212, -0.779,  1.516, 12.   ],\n",
       "        [ 3.63 ,  1.587,  1.45 , 25.883,  5.163, -0.806,  0.759, 11.   ],\n",
       "        [ 4.116,  1.576,  1.554, 12.227,  4.536, -0.909,  2.437, 10.   ],\n",
       "        [ 4.272,  1.73 ,  1.875, 29.54 , -2.513, -0.437,  0.023,  8.   ],\n",
       "        [ 3.937,  1.563,  1.427,  3.115, 11.251, -1.375, -3.1  ,  5.   ],\n",
       "        [ 3.809,  1.601,  1.544, 19.133, -2.578, -0.756, -0.005,  4.   ],\n",
       "        [ 4.041,  1.606,  1.592, 14.267, -2.586, -0.747, -0.014,  3.   ],\n",
       "        [ 4.279,  1.639,  1.562,  8.185, -2.439, -0.791,  0.017,  2.   ],\n",
       "        [ 3.65 ,  1.574,  1.579,  2.638, -2.5  , -0.821, -0.005,  1.   ]]),\n",
       " array([[ 4.033,  1.535,  1.401, 13.735, 11.278, -1.267,  3.141, 25.   ],\n",
       "        [ 3.826,  1.63 ,  1.439,  2.14 , 28.299, -1.615,  1.692, 23.   ],\n",
       "        [ 3.683,  1.599,  1.506, 34.509, -2.391, -0.706,  0.032, 22.   ],\n",
       "        [ 3.267,  1.492,  1.453, 45.051, -2.06 , -0.655, -0.144, 21.   ],\n",
       "        [ 3.423,  1.557,  1.435,  4.334, 29.121, -1.541,  1.65 , 19.   ],\n",
       "        [ 3.875,  1.688,  1.5  , 30.513,  4.099, -0.826,  1.51 , 12.   ],\n",
       "        [ 3.682,  1.58 ,  1.441, 25.144,  5.174, -0.86 ,  0.761, 11.   ],\n",
       "        [ 4.104,  1.585,  1.545, 11.466,  4.544, -0.934,  2.448, 10.   ],\n",
       "        [ 4.277,  1.74 ,  1.848, 28.821, -2.526, -0.494,  0.016,  8.   ],\n",
       "        [ 3.946,  1.564,  1.401,  2.513, 11.202, -1.319, -3.032,  5.   ],\n",
       "        [ 3.833,  1.609,  1.545, 18.408, -2.594, -0.803, -0.011,  4.   ],\n",
       "        [ 4.012,  1.62 ,  1.606, 13.495, -2.585, -0.781, -0.014,  3.   ],\n",
       "        [ 4.265,  1.642,  1.549,  7.436, -2.453, -0.813,  0.011,  2.   ],\n",
       "        [ 3.755,  1.639,  1.597,  1.874, -2.481, -0.839, -0.025,  1.   ]]),\n",
       " array([[ 4.049,  1.592,  1.416, 12.971, 11.299, -1.322, -3.13 , 25.   ],\n",
       "        [ 3.608,  1.555,  1.514, 33.718, -2.377, -0.783,  0.022, 22.   ],\n",
       "        [ 3.494,  1.534,  1.481, 44.427, -2.103, -0.752, -0.111, 21.   ],\n",
       "        [ 3.655,  1.694,  1.455, 29.771,  4.093, -0.906,  1.524, 12.   ],\n",
       "        [ 3.6  ,  1.613,  1.474, 24.37 ,  5.165, -0.91 ,  0.772, 11.   ],\n",
       "        [ 4.157,  1.552,  1.53 , 10.728,  4.543, -0.95 ,  2.444, 10.   ],\n",
       "        [ 4.383,  1.707,  1.881, 28.125, -2.479, -0.531,  0.024,  8.   ],\n",
       "        [ 3.946,  1.564,  1.401,  1.759, 11.192, -1.33 , -3.032,  5.   ],\n",
       "        [ 3.658,  1.591,  1.51 , 17.571, -2.542, -0.845,  0.009,  4.   ],\n",
       "        [ 3.941,  1.608,  1.591, 12.735, -2.594, -0.816, -0.009,  3.   ],\n",
       "        [ 4.241,  1.643,  1.552,  6.683, -2.432, -0.82 ,  0.019,  2.   ],\n",
       "        [ 3.668,  1.633,  1.615,  1.187, -2.46 , -0.852, -0.03 ,  1.   ]]),\n",
       " array([[ 3.925,  1.602,  1.397, 12.241, 11.286, -1.37 ,  3.141, 25.   ],\n",
       "        [ 3.685,  1.593,  1.506, 33.068, -2.384, -0.853,  0.012, 22.   ],\n",
       "        [ 3.654,  1.59 ,  1.53 , 43.86 , -2.059, -0.812, -0.018, 21.   ],\n",
       "        [ 3.73 ,  1.675,  1.477, 29.023,  4.11 , -0.964,  1.512, 12.   ],\n",
       "        [ 3.61 ,  1.601,  1.518, 23.664,  5.174, -0.95 ,  0.77 , 11.   ],\n",
       "        [ 4.119,  1.544,  1.534,  9.978,  4.558, -0.97 ,  2.441, 10.   ],\n",
       "        [ 4.467,  1.744,  1.959, 27.384, -2.505, -0.544,  0.026,  8.   ],\n",
       "        [ 3.602,  1.574,  1.5  , 16.817, -2.555, -0.873, -0.018,  4.   ],\n",
       "        [ 4.005,  1.63 ,  1.585, 12.004, -2.589, -0.844, -0.006,  3.   ],\n",
       "        [ 4.304,  1.671,  1.56 ,  5.945, -2.441, -0.846,  0.013,  2.   ],\n",
       "        [ 3.754,  1.629,  1.671,  0.382, -2.524, -0.84 , -0.018,  1.   ]]),\n",
       " array([[ 4.238,  1.618,  1.412,  7.171, 17.216, -1.227, -1.64 , 30.   ],\n",
       "        [ 3.657,  1.529,  1.493, 44.531, 11.67 , -1.149,  2.967, 29.   ],\n",
       "        [ 4.257,  1.741,  1.925, -0.049,  4.464, -0.832,  0.747, 28.   ],\n",
       "        [ 3.967,  1.601,  1.4  , 11.5  , 11.314, -1.357,  3.141, 25.   ],\n",
       "        [ 3.557,  1.58 ,  1.511, 32.259, -2.39 , -0.84 ,  0.03 , 22.   ],\n",
       "        [ 3.703,  1.571,  1.523, 43.118, -1.994, -0.847,  0.014, 21.   ],\n",
       "        [ 3.745,  1.646,  1.478, 28.253,  4.077, -0.976,  1.486, 12.   ],\n",
       "        [ 3.571,  1.611,  1.503, 22.907,  5.191, -0.929,  0.757, 11.   ],\n",
       "        [ 4.145,  1.567,  1.56 ,  9.263,  4.558, -0.981,  2.439, 10.   ],\n",
       "        [ 4.504,  1.731,  1.96 , 26.667, -2.49 , -0.55 ,  0.022,  8.   ],\n",
       "        [ 3.525,  1.531,  1.5  , 16.054, -2.533, -0.872, -0.009,  4.   ],\n",
       "        [ 3.993,  1.63 ,  1.592, 11.273, -2.563, -0.837,  0.001,  3.   ],\n",
       "        [ 4.312,  1.673,  1.542,  5.199, -2.454, -0.861,  0.012,  2.   ],\n",
       "        [ 3.593,  1.631,  1.612, -0.19 , -2.472, -0.857, -0.157,  1.   ]]),\n",
       " array([[ 3.269,  1.512,  1.404, 35.549, 11.522, -1.121,  3.124, 32.   ],\n",
       "        [ 4.022,  1.602,  1.468, 43.675,  4.317, -0.767, -2.405, 31.   ],\n",
       "        [ 3.826,  1.572,  1.399,  6.426, 17.079, -1.284,  1.509, 30.   ],\n",
       "        [ 3.657,  1.529,  1.493, 43.818, 11.796, -1.16 ,  2.967, 29.   ],\n",
       "        [ 4.257,  1.741,  1.925, -0.647,  4.587, -0.872,  0.747, 28.   ],\n",
       "        [ 3.994,  1.586,  1.409, 10.761, 11.321, -1.308, -3.141, 25.   ],\n",
       "        [ 3.65 ,  1.571,  1.535, 31.574, -2.356, -0.789,  0.024, 22.   ],\n",
       "        [ 3.74 ,  1.57 ,  1.511, 42.367, -2.05 , -0.795, -0.06 , 21.   ],\n",
       "        [ 3.763,  1.672,  1.502, 27.598,  4.111, -0.898,  1.455, 12.   ],\n",
       "        [ 3.631,  1.595,  1.498, 22.188,  5.228, -0.899,  0.756, 11.   ],\n",
       "        [ 4.162,  1.581,  1.568,  8.529,  4.539, -0.961,  2.439, 10.   ],\n",
       "        [ 4.494,  1.706,  1.955, 25.921, -2.479, -0.529,  0.032,  8.   ],\n",
       "        [ 3.685,  1.535,  1.489, 15.382, -2.517, -0.858, -0.004,  4.   ],\n",
       "        [ 4.015,  1.643,  1.592, 10.56 , -2.573, -0.832, -0.009,  3.   ],\n",
       "        [ 4.335,  1.652,  1.555,  4.481, -2.433, -0.861,  0.017,  2.   ],\n",
       "        [ 3.593,  1.631,  1.612, -0.914, -2.465, -0.861, -0.157,  1.   ]]),\n",
       " array([[ 4.117,  1.613,  1.483,  3.204, 16.905, -1.18 , -1.549, 34.   ],\n",
       "        [ 3.306,  1.528,  1.439, 34.658, 11.586, -1.042,  3.136, 32.   ],\n",
       "        [ 4.022,  1.602,  1.468, 42.977,  4.244, -0.725, -2.405, 31.   ],\n",
       "        [ 3.917,  1.554,  1.424,  5.776, 17.084, -1.19 , -1.689, 30.   ],\n",
       "        [ 3.977,  1.573,  1.56 , 43.327, 11.856, -0.723,  3.092, 29.   ],\n",
       "        [ 3.981,  1.577,  1.418,  9.994, 11.311, -1.262, -3.128, 25.   ],\n",
       "        [ 3.689,  1.598,  1.552, 30.892, -2.331, -0.744,  0.035, 22.   ],\n",
       "        [ 3.773,  1.573,  1.499, 41.637, -1.955, -0.74 , -0.03 , 21.   ],\n",
       "        [ 3.683,  1.677,  1.52 , 26.824,  4.082, -0.852,  1.484, 12.   ],\n",
       "        [ 3.679,  1.607,  1.5  , 21.459,  5.238, -0.874,  0.754, 11.   ],\n",
       "        [ 4.184,  1.578,  1.569,  7.802,  4.539, -0.95 ,  2.452, 10.   ],\n",
       "        [ 4.489,  1.724,  1.936, 25.216, -2.483, -0.499,  0.029,  8.   ],\n",
       "        [ 3.72 ,  1.543,  1.481, 14.621, -2.518, -0.852, -0.008,  4.   ],\n",
       "        [ 4.017,  1.64 ,  1.576,  9.823, -2.582, -0.831, -0.016,  3.   ],\n",
       "        [ 4.384,  1.644,  1.564,  3.759, -2.416, -0.86 ,  0.01 ,  2.   ]]),\n",
       " array([[ 3.783,  1.56 ,  1.421,  7.639, 16.892, -1.157, -1.564, 36.   ],\n",
       "        [ 3.782,  1.607,  1.403, 29.394, 11.529, -1.076, -3.137, 35.   ],\n",
       "        [ 4.059,  1.628,  1.485,  2.447, 16.836, -1.183, -1.57 , 34.   ],\n",
       "        [ 3.239,  1.5  ,  1.505, 34.026, 11.546, -1.018, -3.128, 32.   ],\n",
       "        [ 3.972,  1.612,  1.458, 41.99 ,  4.438, -0.702, -2.374, 31.   ],\n",
       "        [ 4.212,  1.602,  1.462,  5.038, 17.183, -1.143, -1.693, 30.   ],\n",
       "        [ 3.884,  1.578,  1.519, 42.573, 12.076, -0.728, -3.073, 29.   ],\n",
       "        [ 4.014,  1.551,  1.443,  9.278, 11.299, -1.234,  3.139, 25.   ],\n",
       "        [ 3.69 ,  1.562,  1.52 , 30.107, -2.324, -0.746,  0.038, 22.   ],\n",
       "        [ 3.744,  1.56 ,  1.468, 40.934, -1.968, -0.744, -0.026, 21.   ],\n",
       "        [ 3.746,  1.658,  1.502, 26.09 ,  4.1  , -0.831,  1.488, 12.   ],\n",
       "        [ 3.625,  1.603,  1.498, 20.737,  5.242, -0.862,  0.766, 11.   ],\n",
       "        [ 4.155,  1.572,  1.552,  7.051,  4.54 , -0.94 ,  2.448, 10.   ],\n",
       "        [ 4.416,  1.716,  1.89 , 24.481, -2.461, -0.504,  0.023,  8.   ],\n",
       "        [ 3.633,  1.537,  1.491, 13.843, -2.525, -0.864, -0.018,  4.   ],\n",
       "        [ 4.028,  1.632,  1.568,  9.068, -2.592, -0.831, -0.003,  3.   ],\n",
       "        [ 4.438,  1.648,  1.573,  3.061, -2.416, -0.859,  0.009,  2.   ]]),\n",
       " array([[ 3.873,  1.588,  1.445,  6.809, 16.895, -1.113, -1.515, 36.   ],\n",
       "        [ 3.873,  1.613,  1.434, 28.702, 11.534, -1.076, -3.132, 35.   ],\n",
       "        [ 4.103,  1.669,  1.496,  1.762, 16.998, -1.174, -1.598, 34.   ],\n",
       "        [ 3.232,  1.522,  1.505, 33.294, 11.567, -1.024, -3.117, 32.   ],\n",
       "        [ 4.005,  1.61 ,  1.444, 41.435,  4.361, -0.71 , -2.454, 31.   ],\n",
       "        [ 4.176,  1.632,  1.468,  4.311, 17.239, -1.114, -1.672, 30.   ],\n",
       "        [ 3.884,  1.578,  1.519, 41.904, 12.21 , -0.624, -3.073, 29.   ],\n",
       "        [ 3.939,  1.542,  1.41 ,  8.55 , 11.29 , -1.227,  3.132, 25.   ],\n",
       "        [ 3.667,  1.583,  1.516, 29.284, -2.356, -0.778,  0.044, 22.   ],\n",
       "        [ 4.048,  1.588,  1.503, 40.324, -1.93 , -0.755, -0.001, 21.   ],\n",
       "        [ 3.604,  1.644,  1.481, 25.334,  4.028, -0.835,  1.494, 12.   ],\n",
       "        [ 3.633,  1.595,  1.496, 19.999,  5.248, -0.869,  0.755, 11.   ],\n",
       "        [ 4.218,  1.595,  1.562,  6.357,  4.528, -0.936,  2.453, 10.   ],\n",
       "        [ 4.416,  1.719,  1.886, 23.748, -2.461, -0.507,  0.021,  8.   ],\n",
       "        [ 3.595,  1.548,  1.484, 13.109, -2.526, -0.881, -0.006,  4.   ],\n",
       "        [ 4.039,  1.635,  1.555,  8.355, -2.583, -0.844,  0.004,  3.   ],\n",
       "        [ 4.501,  1.651,  1.575,  2.356, -2.391, -0.839,  0.009,  2.   ]]),\n",
       " array([[ 3.997,  1.59 ,  1.453,  6.105, 17.028, -1.134, -1.544, 36.   ],\n",
       "        [ 4.018,  1.586,  1.451, 28.008, 11.554, -1.067, -3.129, 35.   ],\n",
       "        [ 4.164,  1.677,  1.505,  0.981, 16.961, -1.142, -1.582, 34.   ],\n",
       "        [ 3.477,  1.544,  1.508, 32.664, 11.551, -1.037, -3.135, 32.   ],\n",
       "        [ 3.937,  1.603,  1.464, 40.65 ,  4.466, -0.731, -2.385, 31.   ],\n",
       "        [ 3.994,  1.626,  1.452,  3.614, 17.26 , -1.114, -1.666, 30.   ],\n",
       "        [ 3.936,  1.554,  1.425,  7.811, 11.292, -1.227,  3.139, 25.   ],\n",
       "        [ 3.777,  1.59 ,  1.54 , 28.637, -2.342, -0.786,  0.036, 22.   ],\n",
       "        [ 3.951,  1.573,  1.492, 39.531, -1.956, -0.769, -0.016, 21.   ],\n",
       "        [ 3.574,  1.659,  1.508, 24.625,  4.049, -0.862,  1.505, 12.   ],\n",
       "        [ 3.605,  1.593,  1.508, 19.286,  5.238, -0.893,  0.758, 11.   ],\n",
       "        [ 4.164,  1.605,  1.562,  5.618,  4.545, -0.964,  2.447, 10.   ],\n",
       "        [ 4.506,  1.705,  1.931, 23.027, -2.464, -0.516,  0.02 ,  8.   ],\n",
       "        [ 3.543,  1.575,  1.495, 12.336, -2.542, -0.883, -0.006,  4.   ],\n",
       "        [ 4.051,  1.657,  1.568,  7.652, -2.563, -0.848, -0.002,  3.   ],\n",
       "        [ 4.36 ,  1.638,  1.581,  1.816, -2.404, -0.846,  0.014,  2.   ]]),\n",
       " array([[ 3.963,  1.579,  1.419,  5.38 , 16.978, -1.167, -1.574, 36.   ],\n",
       "        [ 4.184,  1.597,  1.46 , 27.409, 11.573, -1.064, -3.138, 35.   ],\n",
       "        [ 4.001,  1.606,  1.524,  0.333, 16.837, -1.098, -1.498, 34.   ],\n",
       "        [ 3.373,  1.521,  1.482, 31.857, 11.53 , -1.084, -3.117, 32.   ],\n",
       "        [ 3.937,  1.603,  1.464, 39.909,  4.479, -0.716, -2.385, 31.   ],\n",
       "        [ 4.192,  1.632,  1.428,  2.904, 17.261, -1.124, -1.676, 30.   ],\n",
       "        [ 3.988,  1.531,  1.418,  7.127, 11.274, -1.218, -3.141, 25.   ],\n",
       "        [ 3.752,  1.599,  1.504, 27.836, -2.371, -0.807,  0.033, 22.   ],\n",
       "        [ 3.765,  1.563,  1.509, 38.727, -1.923, -0.784, -0.019, 21.   ],\n",
       "        [ 3.693,  1.667,  1.493, 23.946,  4.085, -0.874,  1.493, 12.   ],\n",
       "        [ 3.586,  1.593,  1.504, 18.559,  5.229, -0.893,  0.763, 11.   ],\n",
       "        [ 4.114,  1.627,  1.546,  4.916,  4.53 , -0.963,  2.443, 10.   ],\n",
       "        [ 4.508,  1.706,  1.952, 22.294, -2.452, -0.516,  0.025,  8.   ],\n",
       "        [ 3.531,  1.582,  1.491, 11.631, -2.529, -0.903, -0.003,  4.   ],\n",
       "        [ 4.031,  1.643,  1.558,  6.929, -2.564, -0.867,  0.003,  3.   ],\n",
       "        [ 4.164,  1.593,  1.586,  1.171, -2.379, -0.856,  0.013,  2.   ]])]"
      ]
     },
     "execution_count": 19,
     "metadata": {},
     "output_type": "execute_result"
    }
   ],
   "source": [
    "results_list\n"
   ]
  },
  {
   "cell_type": "code",
   "execution_count": 23,
   "metadata": {},
   "outputs": [],
   "source": [
    "import pickle"
   ]
  },
  {
   "cell_type": "code",
   "execution_count": 26,
   "metadata": {
    "scrolled": true
   },
   "outputs": [],
   "source": [
    "# results_list"
   ]
  },
  {
   "cell_type": "code",
   "execution_count": 37,
   "metadata": {},
   "outputs": [],
   "source": [
    "with open(\"./results.txt\", \"w\") as file:\n",
    "    for results in results_list:\n",
    "        result = results.tolist()\n",
    "        file.write(str(result))\n",
    "#     file.write(\"World!\")"
   ]
  },
  {
   "cell_type": "code",
   "execution_count": 32,
   "metadata": {},
   "outputs": [
    {
     "ename": "EOFError",
     "evalue": "Ran out of input",
     "output_type": "error",
     "traceback": [
      "\u001b[0;31m---------------------------------------------------------------------------\u001b[0m",
      "\u001b[0;31mEOFError\u001b[0m                                  Traceback (most recent call last)",
      "Cell \u001b[0;32mIn[32], line 2\u001b[0m\n\u001b[1;32m      1\u001b[0m \u001b[38;5;28;01mwith\u001b[39;00m \u001b[38;5;28mopen\u001b[39m(\u001b[38;5;124m\"\u001b[39m\u001b[38;5;124m./results.txt\u001b[39m\u001b[38;5;124m\"\u001b[39m, \u001b[38;5;124m\"\u001b[39m\u001b[38;5;124mrb\u001b[39m\u001b[38;5;124m\"\u001b[39m) \u001b[38;5;28;01mas\u001b[39;00m lf:\n\u001b[0;32m----> 2\u001b[0m     readList \u001b[38;5;241m=\u001b[39m \u001b[43mpickle\u001b[49m\u001b[38;5;241;43m.\u001b[39;49m\u001b[43mload\u001b[49m\u001b[43m(\u001b[49m\u001b[43mlf\u001b[49m\u001b[43m)\u001b[49m\n\u001b[1;32m      3\u001b[0m     \u001b[38;5;28mprint\u001b[39m(readList)\n",
      "\u001b[0;31mEOFError\u001b[0m: Ran out of input"
     ]
    }
   ],
   "source": [
    "# with open(\"./results.txt\", \"rb\") as lf:\n",
    "#     readList = pickle.load(lf)\n",
    "#     print(readList)\n",
    "    \n",
    "# with open(filePath, 'rb') as lf:\n",
    "#     readList = pickle.load(lf)\n",
    "#     print(readList)"
   ]
  },
  {
   "cell_type": "code",
   "execution_count": 1,
   "metadata": {},
   "outputs": [],
   "source": [
    "import motmetrics as mm\n",
    "import numpy as np\n",
    "\n",
    "\n"
   ]
  },
  {
   "cell_type": "code",
   "execution_count": 2,
   "metadata": {},
   "outputs": [
    {
     "data": {
      "text/plain": [
       "0"
      ]
     },
     "execution_count": 2,
     "metadata": {},
     "output_type": "execute_result"
    }
   ],
   "source": [
    "# Create an accumulator that will be updated during each frame\n",
    "acc = mm.MOTAccumulator(auto_id=True)\n",
    "\n",
    "# Call update once for per frame. For now, assume distances between\n",
    "# frame objects / hypotheses are given.\n",
    "acc.update(\n",
    "    [1, 2],                     # Ground truth objects in this frame\n",
    "    [1, 2, 3],                  # Detector hypotheses in this frame\n",
    "    [\n",
    "        [0.1, np.nan, 0.3],     # Distances from object 1 to hypotheses 1, 2, 3\n",
    "        [0.5,  0.2,   0.3]      # Distances from object 2 to hypotheses 1, 2, 3\n",
    "    ]\n",
    ")"
   ]
  },
  {
   "cell_type": "code",
   "execution_count": 3,
   "metadata": {},
   "outputs": [],
   "source": [
    "frameid = acc.update(\n",
    "    [1, 2],\n",
    "    [1],\n",
    "    [\n",
    "        [0.2],\n",
    "        [0.4]\n",
    "    ]\n",
    ")\n"
   ]
  },
  {
   "cell_type": "code",
   "execution_count": 4,
   "metadata": {},
   "outputs": [],
   "source": [
    "# frameid = acc.update(\n",
    "#     [1, 2],\n",
    "#     [1, 3],\n",
    "#     [\n",
    "#         [0.6, 0.2],\n",
    "#         [0.1, 0.6]\n",
    "#     ]\n",
    "# )"
   ]
  },
  {
   "cell_type": "code",
   "execution_count": 5,
   "metadata": {},
   "outputs": [
    {
     "name": "stdout",
     "output_type": "stream",
     "text": [
      "     num_frames  mota      motp\n",
      "acc           2   0.5  0.166667\n"
     ]
    }
   ],
   "source": [
    "mh = mm.metrics.create()\n",
    "summary = mh.compute(acc, metrics=['num_frames', 'mota', 'motp'], name='acc')\n",
    "print(summary)"
   ]
  },
  {
   "cell_type": "code",
   "execution_count": 6,
   "metadata": {},
   "outputs": [
    {
     "name": "stdout",
     "output_type": "stream",
     "text": [
      "     num_frames   MOTA      MOTP\n",
      "acc           2 50.00%  0.166667\n"
     ]
    }
   ],
   "source": [
    "strsummary = mm.io.render_summary(\n",
    "    summary,\n",
    "    formatters={'mota' : '{:.2%}'.format},\n",
    "    namemap={'mota': 'MOTA', 'motp' : 'MOTP'}\n",
    ")\n",
    "print(strsummary)"
   ]
  },
  {
   "cell_type": "code",
   "execution_count": 7,
   "metadata": {},
   "outputs": [],
   "source": [
    "# fig = visualize_pts(points_list[0][:,:3].cpu().numpy())\n",
    "# fig = draw_multi_grid_range(fig, bv_range=(0, -40, 80, 40))\n",
    "# # ref_corners3d = boxes_to_corners_3d([1,1,1,1,1,1,1])\n",
    "# fig = draw_corners3d([1.,1.,1.,1.,1.,1.,1.], fig=fig, color=(0, 1, 0), cls=[91], max_num=100)"
   ]
  },
  {
   "cell_type": "code",
   "execution_count": 20,
   "metadata": {},
   "outputs": [],
   "source": [
    "# !pip install image\n",
    "# sudo fc-cache -f -v"
   ]
  },
  {
   "cell_type": "code",
   "execution_count": 21,
   "metadata": {},
   "outputs": [],
   "source": [
    "\n",
    "chessboard_coord = o3d.geometry.TriangleMesh.create_coordinate_frame(\n",
    "        size=0.02, origin=[0, 0, 0])\n",
    "# pcd_10 = text_3d('Test-10mm', pos=[0, 0, 0.01], font_size=10, density=10)\n",
    "# pcd_20 = text_3d('Test-20mm', pos=[0, 0, 0], font_size=20, density=2)\n",
    "pcd = text_3d(\"test\",pos=[0,0,0])\n",
    "o3d.visualization.draw_geometries([pcd, chessboard_coord])\n"
   ]
  },
  {
   "cell_type": "code",
   "execution_count": null,
   "metadata": {},
   "outputs": [],
   "source": []
  },
  {
   "cell_type": "code",
   "execution_count": null,
   "metadata": {},
   "outputs": [],
   "source": []
  }
 ],
 "metadata": {
  "kernelspec": {
   "display_name": "Python 3 (ipykernel)",
   "language": "python",
   "name": "python3"
  },
  "language_info": {
   "codemirror_mode": {
    "name": "ipython",
    "version": 3
   },
   "file_extension": ".py",
   "mimetype": "text/x-python",
   "name": "python",
   "nbconvert_exporter": "python",
   "pygments_lexer": "ipython3",
   "version": "3.8.16"
  },
  "vscode": {
   "interpreter": {
    "hash": "9a80c0b2ff95d398b0238a658fc2767280a63b31a3529d091b59179bbbc694b2"
   }
  }
 },
 "nbformat": 4,
 "nbformat_minor": 2
}
